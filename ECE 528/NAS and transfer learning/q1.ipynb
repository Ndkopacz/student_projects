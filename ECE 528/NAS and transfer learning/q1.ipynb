{
 "cells": [
  {
   "cell_type": "code",
   "execution_count": 1,
   "id": "0cdcc478-5c18-4b12-9383-d7b9d209d7c6",
   "metadata": {
    "scrolled": true
   },
   "outputs": [
    {
     "name": "stderr",
     "output_type": "stream",
     "text": [
      "2024-09-26 00:21:29.135413: E external/local_xla/xla/stream_executor/cuda/cuda_dnn.cc:9261] Unable to register cuDNN factory: Attempting to register factory for plugin cuDNN when one has already been registered\n",
      "2024-09-26 00:21:29.135523: E external/local_xla/xla/stream_executor/cuda/cuda_fft.cc:607] Unable to register cuFFT factory: Attempting to register factory for plugin cuFFT when one has already been registered\n",
      "2024-09-26 00:21:29.139824: E external/local_xla/xla/stream_executor/cuda/cuda_blas.cc:1515] Unable to register cuBLAS factory: Attempting to register factory for plugin cuBLAS when one has already been registered\n",
      "2024-09-26 00:21:29.164247: I tensorflow/core/platform/cpu_feature_guard.cc:182] This TensorFlow binary is optimized to use available CPU instructions in performance-critical operations.\n",
      "To enable the following instructions: AVX2 FMA, in other operations, rebuild TensorFlow with the appropriate compiler flags.\n"
     ]
    }
   ],
   "source": [
    "# Import necessary libraries\n",
    "import tensorflow as tf\n",
    "from tensorflow.keras import layers, models\n",
    "from tensorflow.keras.datasets import fashion_mnist\n",
    "from tensorflow.keras.callbacks import EarlyStopping, ModelCheckpoint\n",
    "import matplotlib.pyplot as plt"
   ]
  },
  {
   "cell_type": "code",
   "execution_count": 2,
   "id": "43192723-ab0a-4b30-9fb7-d7db01ff9e34",
   "metadata": {},
   "outputs": [
    {
     "name": "stdout",
     "output_type": "stream",
     "text": [
      "Available GPUs: [PhysicalDevice(name='/physical_device:GPU:0', device_type='GPU')]\n"
     ]
    },
    {
     "name": "stderr",
     "output_type": "stream",
     "text": [
      "2024-09-26 00:21:38.412631: I external/local_xla/xla/stream_executor/cuda/cuda_executor.cc:901] successful NUMA node read from SysFS had negative value (-1), but there must be at least one NUMA node, so returning NUMA node zero. See more at https://github.com/torvalds/linux/blob/v6.0/Documentation/ABI/testing/sysfs-bus-pci#L344-L355\n",
      "2024-09-26 00:21:38.440930: I external/local_xla/xla/stream_executor/cuda/cuda_executor.cc:901] successful NUMA node read from SysFS had negative value (-1), but there must be at least one NUMA node, so returning NUMA node zero. See more at https://github.com/torvalds/linux/blob/v6.0/Documentation/ABI/testing/sysfs-bus-pci#L344-L355\n",
      "2024-09-26 00:21:38.445910: I external/local_xla/xla/stream_executor/cuda/cuda_executor.cc:901] successful NUMA node read from SysFS had negative value (-1), but there must be at least one NUMA node, so returning NUMA node zero. See more at https://github.com/torvalds/linux/blob/v6.0/Documentation/ABI/testing/sysfs-bus-pci#L344-L355\n"
     ]
    }
   ],
   "source": [
    "gpus = tf.config.experimental.list_physical_devices('GPU')\n",
    "# List all physical devices recognized by TensorFlow\n",
    "physical_devices = tf.config.list_physical_devices('GPU')\n",
    "print(\"Available GPUs:\", physical_devices)\n",
    "if gpus :\n",
    "    try:\n",
    "        for gpu in gpus:\n",
    "            tf.config.experimental.set_memory_growth(gpu, True)\n",
    "        tf.config.experimental.set_virtual_device_configuration(gpus[0],[tf.config.experimental.VirtualDeviceConfiguration(memory_limit=1024 * 20)])\n",
    "\n",
    "    except RuntimeError as e:\n",
    "        print(e)"
   ]
  },
  {
   "cell_type": "code",
   "execution_count": 3,
   "id": "eada2322-ee4b-4107-80e7-2563f4185387",
   "metadata": {},
   "outputs": [],
   "source": [
    "# Load the Fashion MNIST dataset\n",
    "(train_images, train_labels), (test_images, test_labels) = fashion_mnist.load_data()"
   ]
  },
  {
   "cell_type": "code",
   "execution_count": 4,
   "id": "1897c46a-7e8a-4954-ab77-eb7de51c5a04",
   "metadata": {},
   "outputs": [],
   "source": [
    "# Normalize the images to a range of 0 to 1\n",
    "train_images = train_images / 255.0\n",
    "test_images = test_images / 255.0"
   ]
  },
  {
   "cell_type": "code",
   "execution_count": 5,
   "id": "9db2d6ca-cd1d-49dc-b82e-68ddc70e64a3",
   "metadata": {},
   "outputs": [],
   "source": [
    "# Reshape images to include channel dimension\n",
    "train_images = train_images.reshape((train_images.shape[0], 28, 28, 1))\n",
    "test_images = test_images.reshape((test_images.shape[0], 28, 28, 1))"
   ]
  },
  {
   "cell_type": "code",
   "execution_count": 6,
   "id": "82db5593-6dcb-470e-b12a-61b67abfb654",
   "metadata": {},
   "outputs": [],
   "source": [
    "def create_model():\n",
    "    model = models.Sequential([\n",
    "        layers.Conv2D(32, (3, 3), activation='relu', input_shape=(28, 28, 1)),\n",
    "        layers.MaxPooling2D((2, 2)),\n",
    "        layers.Conv2D(64, (3, 3), activation='relu'),\n",
    "        layers.MaxPooling2D((2, 2)),\n",
    "        layers.Conv2D(128, (3, 3), activation='relu'),\n",
    "        layers.Flatten(),\n",
    "        layers.Dense(128, activation='relu'),\n",
    "        layers.Dense(10, activation='softmax')\n",
    "    ])\n",
    "    return model"
   ]
  },
  {
   "cell_type": "code",
   "execution_count": 7,
   "id": "f4119228-d215-43ac-8262-3468008189d5",
   "metadata": {},
   "outputs": [
    {
     "name": "stderr",
     "output_type": "stream",
     "text": [
      "2024-09-26 00:21:40.422846: I external/local_xla/xla/stream_executor/cuda/cuda_executor.cc:901] successful NUMA node read from SysFS had negative value (-1), but there must be at least one NUMA node, so returning NUMA node zero. See more at https://github.com/torvalds/linux/blob/v6.0/Documentation/ABI/testing/sysfs-bus-pci#L344-L355\n",
      "2024-09-26 00:21:40.427888: I external/local_xla/xla/stream_executor/cuda/cuda_executor.cc:901] successful NUMA node read from SysFS had negative value (-1), but there must be at least one NUMA node, so returning NUMA node zero. See more at https://github.com/torvalds/linux/blob/v6.0/Documentation/ABI/testing/sysfs-bus-pci#L344-L355\n",
      "2024-09-26 00:21:40.432882: I external/local_xla/xla/stream_executor/cuda/cuda_executor.cc:901] successful NUMA node read from SysFS had negative value (-1), but there must be at least one NUMA node, so returning NUMA node zero. See more at https://github.com/torvalds/linux/blob/v6.0/Documentation/ABI/testing/sysfs-bus-pci#L344-L355\n",
      "2024-09-26 00:21:40.666804: I external/local_xla/xla/stream_executor/cuda/cuda_executor.cc:901] successful NUMA node read from SysFS had negative value (-1), but there must be at least one NUMA node, so returning NUMA node zero. See more at https://github.com/torvalds/linux/blob/v6.0/Documentation/ABI/testing/sysfs-bus-pci#L344-L355\n",
      "2024-09-26 00:21:40.669076: I external/local_xla/xla/stream_executor/cuda/cuda_executor.cc:901] successful NUMA node read from SysFS had negative value (-1), but there must be at least one NUMA node, so returning NUMA node zero. See more at https://github.com/torvalds/linux/blob/v6.0/Documentation/ABI/testing/sysfs-bus-pci#L344-L355\n",
      "2024-09-26 00:21:40.671265: I external/local_xla/xla/stream_executor/cuda/cuda_executor.cc:901] successful NUMA node read from SysFS had negative value (-1), but there must be at least one NUMA node, so returning NUMA node zero. See more at https://github.com/torvalds/linux/blob/v6.0/Documentation/ABI/testing/sysfs-bus-pci#L344-L355\n",
      "2024-09-26 00:21:40.673294: I tensorflow/core/common_runtime/gpu/gpu_device.cc:1929] Created device /job:localhost/replica:0/task:0/device:GPU:0 with 20480 MB memory:  -> device: 0, name: NVIDIA GeForce RTX 3090, pci bus id: 0000:01:00.0, compute capability: 8.6\n"
     ]
    }
   ],
   "source": [
    "#  Compile the model\n",
    "model = create_model()\n",
    "model.compile(optimizer='adam',\n",
    "              loss='sparse_categorical_crossentropy',\n",
    "              metrics=['accuracy'])"
   ]
  },
  {
   "cell_type": "code",
   "execution_count": 8,
   "id": "9774bfed-85ef-4997-bdc8-293c54a59db0",
   "metadata": {},
   "outputs": [
    {
     "name": "stdout",
     "output_type": "stream",
     "text": [
      "Epoch 1/20\n"
     ]
    },
    {
     "name": "stderr",
     "output_type": "stream",
     "text": [
      "2024-09-26 00:21:46.917015: I external/local_xla/xla/stream_executor/cuda/cuda_dnn.cc:454] Loaded cuDNN version 8906\n",
      "2024-09-26 00:21:48.294792: I external/local_xla/xla/service/service.cc:168] XLA service 0x7f95c088fc90 initialized for platform CUDA (this does not guarantee that XLA will be used). Devices:\n",
      "2024-09-26 00:21:48.294870: I external/local_xla/xla/service/service.cc:176]   StreamExecutor device (0): NVIDIA GeForce RTX 3090, Compute Capability 8.6\n",
      "2024-09-26 00:21:48.314155: I tensorflow/compiler/mlir/tensorflow/utils/dump_mlir_util.cc:269] disabling MLIR crash reproducer, set env var `MLIR_CRASH_REPRODUCER_DIRECTORY` to enable.\n",
      "WARNING: All log messages before absl::InitializeLog() is called are written to STDERR\n",
      "I0000 00:00:1727310108.658330     933 device_compiler.h:186] Compiled cluster using XLA!  This line is logged at most once for the lifetime of the process.\n"
     ]
    },
    {
     "name": "stdout",
     "output_type": "stream",
     "text": [
      "188/188 [==============================] - 13s 23ms/step - loss: 0.7031 - accuracy: 0.7442 - val_loss: 0.4853 - val_accuracy: 0.8239\n",
      "Epoch 2/20\n",
      "  1/188 [..............................] - ETA: 2s - loss: 0.5534 - accuracy: 0.8008"
     ]
    },
    {
     "name": "stderr",
     "output_type": "stream",
     "text": [
      "/usr/local/lib/python3.11/dist-packages/keras/src/engine/training.py:3103: UserWarning: You are saving your model as an HDF5 file via `model.save()`. This file format is considered legacy. We recommend using instead the native Keras format, e.g. `model.save('my_model.keras')`.\n",
      "  saving_api.save_model(\n"
     ]
    },
    {
     "name": "stdout",
     "output_type": "stream",
     "text": [
      "188/188 [==============================] - 3s 14ms/step - loss: 0.4203 - accuracy: 0.8464 - val_loss: 0.3751 - val_accuracy: 0.8618\n",
      "Epoch 3/20\n",
      "188/188 [==============================] - 3s 14ms/step - loss: 0.3544 - accuracy: 0.8718 - val_loss: 0.3354 - val_accuracy: 0.8763\n",
      "Epoch 4/20\n",
      "188/188 [==============================] - 3s 14ms/step - loss: 0.3202 - accuracy: 0.8836 - val_loss: 0.3201 - val_accuracy: 0.8832\n",
      "Epoch 5/20\n",
      "188/188 [==============================] - 3s 14ms/step - loss: 0.2907 - accuracy: 0.8939 - val_loss: 0.3047 - val_accuracy: 0.8881\n",
      "Epoch 6/20\n",
      "188/188 [==============================] - 3s 14ms/step - loss: 0.2696 - accuracy: 0.9015 - val_loss: 0.2894 - val_accuracy: 0.8944\n",
      "Epoch 7/20\n",
      "188/188 [==============================] - 3s 14ms/step - loss: 0.2492 - accuracy: 0.9085 - val_loss: 0.2841 - val_accuracy: 0.8963\n",
      "Epoch 8/20\n",
      "188/188 [==============================] - 3s 14ms/step - loss: 0.2421 - accuracy: 0.9108 - val_loss: 0.2694 - val_accuracy: 0.8996\n",
      "Epoch 9/20\n",
      "188/188 [==============================] - 3s 14ms/step - loss: 0.2229 - accuracy: 0.9174 - val_loss: 0.2620 - val_accuracy: 0.9057\n",
      "Epoch 10/20\n",
      "188/188 [==============================] - 3s 14ms/step - loss: 0.2087 - accuracy: 0.9233 - val_loss: 0.3038 - val_accuracy: 0.8906\n",
      "Epoch 11/20\n",
      "188/188 [==============================] - 3s 14ms/step - loss: 0.1994 - accuracy: 0.9269 - val_loss: 0.2754 - val_accuracy: 0.9025\n",
      "Epoch 12/20\n",
      "188/188 [==============================] - 3s 14ms/step - loss: 0.1889 - accuracy: 0.9302 - val_loss: 0.2491 - val_accuracy: 0.9114\n",
      "Epoch 13/20\n",
      "188/188 [==============================] - 3s 14ms/step - loss: 0.1771 - accuracy: 0.9344 - val_loss: 0.2436 - val_accuracy: 0.9119\n",
      "Epoch 14/20\n",
      "188/188 [==============================] - 3s 14ms/step - loss: 0.1651 - accuracy: 0.9399 - val_loss: 0.2424 - val_accuracy: 0.9122\n",
      "Epoch 15/20\n",
      "188/188 [==============================] - 3s 14ms/step - loss: 0.1568 - accuracy: 0.9426 - val_loss: 0.2567 - val_accuracy: 0.9120\n",
      "Epoch 16/20\n",
      "188/188 [==============================] - 3s 14ms/step - loss: 0.1482 - accuracy: 0.9449 - val_loss: 0.2541 - val_accuracy: 0.9118\n",
      "Epoch 17/20\n",
      "188/188 [==============================] - 3s 14ms/step - loss: 0.1372 - accuracy: 0.9501 - val_loss: 0.2699 - val_accuracy: 0.9078\n",
      "Epoch 18/20\n",
      "188/188 [==============================] - 3s 14ms/step - loss: 0.1300 - accuracy: 0.9524 - val_loss: 0.2669 - val_accuracy: 0.9114\n",
      "Epoch 19/20\n",
      "188/188 [==============================] - 3s 14ms/step - loss: 0.1229 - accuracy: 0.9551 - val_loss: 0.2879 - val_accuracy: 0.9067\n"
     ]
    }
   ],
   "source": [
    "# Callbacks and training\n",
    "checkpoint = ModelCheckpoint('handdesigned_model.h5', save_best_only=True, monitor='val_loss')\n",
    "early_stopping = EarlyStopping(monitor='val_loss', patience=5)\n",
    "\n",
    "history = model.fit(train_images, train_labels, epochs=20, \n",
    "                    validation_split=0.2, \n",
    "                    callbacks=[checkpoint, early_stopping],\n",
    "                    batch_size=256\n",
    "                   )"
   ]
  },
  {
   "cell_type": "code",
   "execution_count": 9,
   "id": "343dc690-1dc3-4561-b6b8-a47e6d227d97",
   "metadata": {},
   "outputs": [
    {
     "name": "stdout",
     "output_type": "stream",
     "text": [
      "313/313 [==============================] - 3s 7ms/step - loss: 0.2935 - accuracy: 0.9066\n",
      "Test accuracy: 0.9066\n"
     ]
    }
   ],
   "source": [
    "# Evaluate the model on test data\n",
    "test_loss, test_acc = model.evaluate(test_images, test_labels)\n",
    "print(f'Test accuracy: {test_acc:.4f}')"
   ]
  },
  {
   "cell_type": "code",
   "execution_count": 10,
   "id": "33613a00-d1ab-468c-81b2-3c0bb4e2b670",
   "metadata": {},
   "outputs": [
    {
     "data": {
      "image/png": "[encoded data removed]",
      "text/plain": [
       "<Figure size 640x480 with 1 Axes>"
      ]
     },
     "metadata": {},
     "output_type": "display_data"
    }
   ],
   "source": [
    "# Plot accuracy and loss over epochs\n",
    "plt.plot(history.history['accuracy'], label='train accuracy')\n",
    "plt.plot(history.history['val_accuracy'], label='val accuracy')\n",
    "plt.xlabel('Epochs')\n",
    "plt.ylabel('Accuracy')\n",
    "plt.legend()\n",
    "plt.show()"
   ]
  },
  {
   "cell_type": "code",
   "execution_count": 11,
   "id": "afcc3216-4e68-42aa-adf4-9b861dbe588d",
   "metadata": {},
   "outputs": [
    {
     "name": "stdout",
     "output_type": "stream",
     "text": [
      "You must install pydot (`pip install pydot`) and install graphviz (see instructions at https://graphviz.gitlab.io/download/) for plot_model to work.\n"
     ]
    }
   ],
   "source": [
    "# Save the model architecture plot\n",
    "tf.keras.utils.plot_model(model, to_file='handdesigned_model.png', show_shapes=True)"
   ]
  }
 ],
 "metadata": {
  "kernelspec": {
   "display_name": "Python 3 (ipykernel)",
   "language": "python",
   "name": "python3"
  },
  "language_info": {
   "codemirror_mode": {
    "name": "ipython",
    "version": 3
   },
   "file_extension": ".py",
   "mimetype": "text/x-python",
   "name": "python",
   "nbconvert_exporter": "python",
   "pygments_lexer": "ipython3",
   "version": "3.11.0rc1"
  }
 },
 "nbformat": 4,
 "nbformat_minor": 5
}
